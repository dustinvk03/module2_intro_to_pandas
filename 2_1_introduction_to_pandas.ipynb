{
 "cells": [
  {
   "cell_type": "markdown",
   "metadata": {
    "slideshow": {
     "slide_type": "slide"
    }
   },
   "source": [
    "# Introduction to Pandas"
   ]
  },
  {
   "cell_type": "markdown",
   "metadata": {
    "slideshow": {
     "slide_type": "slide"
    }
   },
   "source": [
    "## Pandas provides Python data frames\n",
    "\n",
    "* Popular and established\n",
    "* Inspired by R dataframes\n",
    "* Built on `numpy` for fast computation"
   ]
  },
  {
   "cell_type": "code",
   "execution_count": 1,
   "metadata": {
    "slideshow": {
     "slide_type": "fragment"
    }
   },
   "outputs": [],
   "source": [
    "import pandas as pd"
   ]
  },
  {
   "cell_type": "markdown",
   "metadata": {
    "slideshow": {
     "slide_type": "slide"
    }
   },
   "source": [
    "## Our first dataframe"
   ]
  },
  {
   "cell_type": "code",
   "execution_count": 2,
   "metadata": {
    "scrolled": true,
    "slideshow": {
     "slide_type": "fragment"
    }
   },
   "outputs": [
    {
     "data": {
      "text/html": [
       "<div>\n",
       "<style scoped>\n",
       "    .dataframe tbody tr th:only-of-type {\n",
       "        vertical-align: middle;\n",
       "    }\n",
       "\n",
       "    .dataframe tbody tr th {\n",
       "        vertical-align: top;\n",
       "    }\n",
       "\n",
       "    .dataframe thead th {\n",
       "        text-align: right;\n",
       "    }\n",
       "</style>\n",
       "<table border=\"1\" class=\"dataframe\">\n",
       "  <thead>\n",
       "    <tr style=\"text-align: right;\">\n",
       "      <th></th>\n",
       "      <th>Names</th>\n",
       "      <th>Python_mastery</th>\n",
       "      <th>Love_of_R</th>\n",
       "      <th>years_at_wsu</th>\n",
       "    </tr>\n",
       "  </thead>\n",
       "  <tbody>\n",
       "    <tr>\n",
       "      <th>0</th>\n",
       "      <td>Iverson</td>\n",
       "      <td>10.0</td>\n",
       "      <td>2</td>\n",
       "      <td>4</td>\n",
       "    </tr>\n",
       "    <tr>\n",
       "      <th>1</th>\n",
       "      <td>Malone</td>\n",
       "      <td>5.0</td>\n",
       "      <td>5</td>\n",
       "      <td>17</td>\n",
       "    </tr>\n",
       "    <tr>\n",
       "      <th>2</th>\n",
       "      <td>Bergen</td>\n",
       "      <td>1.0</td>\n",
       "      <td>11</td>\n",
       "      <td>5</td>\n",
       "    </tr>\n",
       "  </tbody>\n",
       "</table>\n",
       "</div>"
      ],
      "text/plain": [
       "     Names  Python_mastery  Love_of_R  years_at_wsu\n",
       "0  Iverson            10.0          2             4\n",
       "1   Malone             5.0          5            17\n",
       "2   Bergen             1.0         11             5"
      ]
     },
     "execution_count": 2,
     "metadata": {},
     "output_type": "execute_result"
    }
   ],
   "source": [
    "df = pd.DataFrame({\"Names\": [\"Iverson\", \"Malone\", \"Bergen\"],\n",
    "                   \"Python_mastery\": [10, 5, 1.0],\n",
    "                   \"Love_of_R\": [2, 5, 11],\n",
    "                   \"years_at_wsu\": [4, 17, 5]})\n",
    "df.head()"
   ]
  },
  {
   "cell_type": "markdown",
   "metadata": {
    "slideshow": {
     "slide_type": "slide"
    }
   },
   "source": [
    "## Reading from a csv\n",
    "\n",
    "* Most data sets will be read in from a csv or JSON data file\n",
    "* `Pandas` provides `read_csv` and `read_json`"
   ]
  },
  {
   "cell_type": "markdown",
   "metadata": {
    "slideshow": {
     "slide_type": "slide"
    }
   },
   "source": [
    "### Open a local file w/ relative path"
   ]
  },
  {
   "cell_type": "code",
   "execution_count": 3,
   "metadata": {},
   "outputs": [
    {
     "data": {
      "text/html": [
       "<div>\n",
       "<style scoped>\n",
       "    .dataframe tbody tr th:only-of-type {\n",
       "        vertical-align: middle;\n",
       "    }\n",
       "\n",
       "    .dataframe tbody tr th {\n",
       "        vertical-align: top;\n",
       "    }\n",
       "\n",
       "    .dataframe thead th {\n",
       "        text-align: right;\n",
       "    }\n",
       "</style>\n",
       "<table border=\"1\" class=\"dataframe\">\n",
       "  <thead>\n",
       "    <tr style=\"text-align: right;\">\n",
       "      <th></th>\n",
       "      <th>ConstituentID</th>\n",
       "      <th>DisplayName</th>\n",
       "      <th>ArtistBio</th>\n",
       "      <th>Nationality</th>\n",
       "      <th>Gender</th>\n",
       "      <th>BeginDate</th>\n",
       "      <th>EndDate</th>\n",
       "      <th>Wiki QID</th>\n",
       "      <th>ULAN</th>\n",
       "    </tr>\n",
       "  </thead>\n",
       "  <tbody>\n",
       "    <tr>\n",
       "      <th>0</th>\n",
       "      <td>1</td>\n",
       "      <td>Robert Arneson</td>\n",
       "      <td>American, 1930–1992</td>\n",
       "      <td>American</td>\n",
       "      <td>Male</td>\n",
       "      <td>1930</td>\n",
       "      <td>1992</td>\n",
       "      <td>NaN</td>\n",
       "      <td>NaN</td>\n",
       "    </tr>\n",
       "    <tr>\n",
       "      <th>1</th>\n",
       "      <td>2</td>\n",
       "      <td>Doroteo Arnaiz</td>\n",
       "      <td>Spanish, born 1936</td>\n",
       "      <td>Spanish</td>\n",
       "      <td>Male</td>\n",
       "      <td>1936</td>\n",
       "      <td>0</td>\n",
       "      <td>NaN</td>\n",
       "      <td>NaN</td>\n",
       "    </tr>\n",
       "    <tr>\n",
       "      <th>2</th>\n",
       "      <td>3</td>\n",
       "      <td>Bill Arnold</td>\n",
       "      <td>American, born 1941</td>\n",
       "      <td>American</td>\n",
       "      <td>Male</td>\n",
       "      <td>1941</td>\n",
       "      <td>0</td>\n",
       "      <td>NaN</td>\n",
       "      <td>NaN</td>\n",
       "    </tr>\n",
       "    <tr>\n",
       "      <th>3</th>\n",
       "      <td>4</td>\n",
       "      <td>Charles Arnoldi</td>\n",
       "      <td>American, born 1946</td>\n",
       "      <td>American</td>\n",
       "      <td>Male</td>\n",
       "      <td>1946</td>\n",
       "      <td>0</td>\n",
       "      <td>Q1063584</td>\n",
       "      <td>500027998.0</td>\n",
       "    </tr>\n",
       "    <tr>\n",
       "      <th>4</th>\n",
       "      <td>5</td>\n",
       "      <td>Per Arnoldi</td>\n",
       "      <td>Danish, born 1941</td>\n",
       "      <td>Danish</td>\n",
       "      <td>Male</td>\n",
       "      <td>1941</td>\n",
       "      <td>0</td>\n",
       "      <td>NaN</td>\n",
       "      <td>NaN</td>\n",
       "    </tr>\n",
       "  </tbody>\n",
       "</table>\n",
       "</div>"
      ],
      "text/plain": [
       "   ConstituentID      DisplayName            ArtistBio Nationality Gender  \\\n",
       "0              1   Robert Arneson  American, 1930–1992    American   Male   \n",
       "1              2   Doroteo Arnaiz   Spanish, born 1936     Spanish   Male   \n",
       "2              3      Bill Arnold  American, born 1941    American   Male   \n",
       "3              4  Charles Arnoldi  American, born 1946    American   Male   \n",
       "4              5      Per Arnoldi    Danish, born 1941      Danish   Male   \n",
       "\n",
       "   BeginDate  EndDate  Wiki QID         ULAN  \n",
       "0       1930     1992       NaN          NaN  \n",
       "1       1936        0       NaN          NaN  \n",
       "2       1941        0       NaN          NaN  \n",
       "3       1946        0  Q1063584  500027998.0  \n",
       "4       1941        0       NaN          NaN  "
      ]
     },
     "execution_count": 3,
     "metadata": {},
     "output_type": "execute_result"
    }
   ],
   "source": [
    "# Won't work in colab\n",
    "artists = pd.read_csv('./data/Artists.csv')\n",
    "artists.head()"
   ]
  },
  {
   "cell_type": "markdown",
   "metadata": {
    "slideshow": {
     "slide_type": "slide"
    }
   },
   "source": [
    "### Open a web address"
   ]
  },
  {
   "cell_type": "code",
   "execution_count": 4,
   "metadata": {
    "slideshow": {
     "slide_type": "fragment"
    }
   },
   "outputs": [
    {
     "data": {
      "text/html": [
       "<div>\n",
       "<style scoped>\n",
       "    .dataframe tbody tr th:only-of-type {\n",
       "        vertical-align: middle;\n",
       "    }\n",
       "\n",
       "    .dataframe tbody tr th {\n",
       "        vertical-align: top;\n",
       "    }\n",
       "\n",
       "    .dataframe thead th {\n",
       "        text-align: right;\n",
       "    }\n",
       "</style>\n",
       "<table border=\"1\" class=\"dataframe\">\n",
       "  <thead>\n",
       "    <tr style=\"text-align: right;\">\n",
       "      <th></th>\n",
       "      <th>ConstituentID</th>\n",
       "      <th>DisplayName</th>\n",
       "      <th>ArtistBio</th>\n",
       "      <th>Nationality</th>\n",
       "      <th>Gender</th>\n",
       "      <th>BeginDate</th>\n",
       "      <th>EndDate</th>\n",
       "      <th>Wiki QID</th>\n",
       "      <th>ULAN</th>\n",
       "    </tr>\n",
       "  </thead>\n",
       "  <tbody>\n",
       "    <tr>\n",
       "      <th>0</th>\n",
       "      <td>1</td>\n",
       "      <td>Robert Arneson</td>\n",
       "      <td>American, 1930–1992</td>\n",
       "      <td>American</td>\n",
       "      <td>Male</td>\n",
       "      <td>1930</td>\n",
       "      <td>1992</td>\n",
       "      <td>NaN</td>\n",
       "      <td>NaN</td>\n",
       "    </tr>\n",
       "    <tr>\n",
       "      <th>1</th>\n",
       "      <td>2</td>\n",
       "      <td>Doroteo Arnaiz</td>\n",
       "      <td>Spanish, born 1936</td>\n",
       "      <td>Spanish</td>\n",
       "      <td>Male</td>\n",
       "      <td>1936</td>\n",
       "      <td>0</td>\n",
       "      <td>NaN</td>\n",
       "      <td>NaN</td>\n",
       "    </tr>\n",
       "    <tr>\n",
       "      <th>2</th>\n",
       "      <td>3</td>\n",
       "      <td>Bill Arnold</td>\n",
       "      <td>American, born 1941</td>\n",
       "      <td>American</td>\n",
       "      <td>Male</td>\n",
       "      <td>1941</td>\n",
       "      <td>0</td>\n",
       "      <td>NaN</td>\n",
       "      <td>NaN</td>\n",
       "    </tr>\n",
       "    <tr>\n",
       "      <th>3</th>\n",
       "      <td>4</td>\n",
       "      <td>Charles Arnoldi</td>\n",
       "      <td>American, born 1946</td>\n",
       "      <td>American</td>\n",
       "      <td>Male</td>\n",
       "      <td>1946</td>\n",
       "      <td>0</td>\n",
       "      <td>Q1063584</td>\n",
       "      <td>500027998.0</td>\n",
       "    </tr>\n",
       "    <tr>\n",
       "      <th>4</th>\n",
       "      <td>5</td>\n",
       "      <td>Per Arnoldi</td>\n",
       "      <td>Danish, born 1941</td>\n",
       "      <td>Danish</td>\n",
       "      <td>Male</td>\n",
       "      <td>1941</td>\n",
       "      <td>0</td>\n",
       "      <td>NaN</td>\n",
       "      <td>NaN</td>\n",
       "    </tr>\n",
       "  </tbody>\n",
       "</table>\n",
       "</div>"
      ],
      "text/plain": [
       "   ConstituentID      DisplayName            ArtistBio Nationality Gender  \\\n",
       "0              1   Robert Arneson  American, 1930–1992    American   Male   \n",
       "1              2   Doroteo Arnaiz   Spanish, born 1936     Spanish   Male   \n",
       "2              3      Bill Arnold  American, born 1941    American   Male   \n",
       "3              4  Charles Arnoldi  American, born 1946    American   Male   \n",
       "4              5      Per Arnoldi    Danish, born 1941      Danish   Male   \n",
       "\n",
       "   BeginDate  EndDate  Wiki QID         ULAN  \n",
       "0       1930     1992       NaN          NaN  \n",
       "1       1936        0       NaN          NaN  \n",
       "2       1941        0       NaN          NaN  \n",
       "3       1946        0  Q1063584  500027998.0  \n",
       "4       1941        0       NaN          NaN  "
      ]
     },
     "execution_count": 4,
     "metadata": {},
     "output_type": "execute_result"
    }
   ],
   "source": [
    "url = \"https://github.com/MuseumofModernArt/collection/raw/master/Artists.csv\"\n",
    "artists =  pd.read_csv(url)\n",
    "artists.head()"
   ]
  },
  {
   "cell_type": "markdown",
   "metadata": {
    "slideshow": {
     "slide_type": "slide"
    }
   },
   "source": [
    "# JSON data file\n",
    "\n",
    "* Another (more modern) storage\n",
    "* Here the data is stored in row `dict`"
   ]
  },
  {
   "cell_type": "markdown",
   "metadata": {
    "slideshow": {
     "slide_type": "slide"
    }
   },
   "source": [
    "```{json}\n",
    "[\n",
    "{\n",
    "  \"ConstituentID\": 1,\n",
    "  \"DisplayName\": \"Robert Arneson\",\n",
    "  \"ArtistBio\": \"American, 1930–1992\",\n",
    "  \"Nationality\": \"American\",\n",
    "  \"Gender\": \"Male\",\n",
    "  \"BeginDate\": 1930,\n",
    "  \"EndDate\": 1992,\n",
    "  \"Wiki QID\": null,\n",
    "  \"ULAN\": null\n",
    "},\n",
    "{\n",
    "  \"ConstituentID\": 2,\n",
    "  \"DisplayName\": \"Doroteo Arnaiz\",\n",
    "  \"ArtistBio\": \"Spanish, born 1936\",\n",
    "  \"Nationality\": \"Spanish\",\n",
    "  \"Gender\": \"Male\",\n",
    "  \"BeginDate\": 1936,\n",
    "  \"EndDate\": 0,\n",
    "  \"Wiki QID\": null,\n",
    "  \"ULAN\": null\n",
    "},\n",
    "...\n",
    "```"
   ]
  },
  {
   "cell_type": "markdown",
   "metadata": {},
   "source": [
    "## `pandas` can read `json` data"
   ]
  },
  {
   "cell_type": "code",
   "execution_count": 5,
   "metadata": {
    "slideshow": {
     "slide_type": "fragment"
    }
   },
   "outputs": [
    {
     "data": {
      "text/html": [
       "<div>\n",
       "<style scoped>\n",
       "    .dataframe tbody tr th:only-of-type {\n",
       "        vertical-align: middle;\n",
       "    }\n",
       "\n",
       "    .dataframe tbody tr th {\n",
       "        vertical-align: top;\n",
       "    }\n",
       "\n",
       "    .dataframe thead th {\n",
       "        text-align: right;\n",
       "    }\n",
       "</style>\n",
       "<table border=\"1\" class=\"dataframe\">\n",
       "  <thead>\n",
       "    <tr style=\"text-align: right;\">\n",
       "      <th></th>\n",
       "      <th>ConstituentID</th>\n",
       "      <th>DisplayName</th>\n",
       "      <th>ArtistBio</th>\n",
       "      <th>Nationality</th>\n",
       "      <th>Gender</th>\n",
       "      <th>BeginDate</th>\n",
       "      <th>EndDate</th>\n",
       "      <th>Wiki QID</th>\n",
       "      <th>ULAN</th>\n",
       "    </tr>\n",
       "  </thead>\n",
       "  <tbody>\n",
       "    <tr>\n",
       "      <th>0</th>\n",
       "      <td>1</td>\n",
       "      <td>Robert Arneson</td>\n",
       "      <td>American, 1930–1992</td>\n",
       "      <td>American</td>\n",
       "      <td>Male</td>\n",
       "      <td>1930</td>\n",
       "      <td>1992</td>\n",
       "      <td>None</td>\n",
       "      <td>NaN</td>\n",
       "    </tr>\n",
       "    <tr>\n",
       "      <th>1</th>\n",
       "      <td>2</td>\n",
       "      <td>Doroteo Arnaiz</td>\n",
       "      <td>Spanish, born 1936</td>\n",
       "      <td>Spanish</td>\n",
       "      <td>Male</td>\n",
       "      <td>1936</td>\n",
       "      <td>0</td>\n",
       "      <td>None</td>\n",
       "      <td>NaN</td>\n",
       "    </tr>\n",
       "    <tr>\n",
       "      <th>2</th>\n",
       "      <td>3</td>\n",
       "      <td>Bill Arnold</td>\n",
       "      <td>American, born 1941</td>\n",
       "      <td>American</td>\n",
       "      <td>Male</td>\n",
       "      <td>1941</td>\n",
       "      <td>0</td>\n",
       "      <td>None</td>\n",
       "      <td>NaN</td>\n",
       "    </tr>\n",
       "    <tr>\n",
       "      <th>3</th>\n",
       "      <td>4</td>\n",
       "      <td>Charles Arnoldi</td>\n",
       "      <td>American, born 1946</td>\n",
       "      <td>American</td>\n",
       "      <td>Male</td>\n",
       "      <td>1946</td>\n",
       "      <td>0</td>\n",
       "      <td>Q1063584</td>\n",
       "      <td>500027998.0</td>\n",
       "    </tr>\n",
       "    <tr>\n",
       "      <th>4</th>\n",
       "      <td>5</td>\n",
       "      <td>Per Arnoldi</td>\n",
       "      <td>Danish, born 1941</td>\n",
       "      <td>Danish</td>\n",
       "      <td>Male</td>\n",
       "      <td>1941</td>\n",
       "      <td>0</td>\n",
       "      <td>None</td>\n",
       "      <td>NaN</td>\n",
       "    </tr>\n",
       "  </tbody>\n",
       "</table>\n",
       "</div>"
      ],
      "text/plain": [
       "   ConstituentID      DisplayName            ArtistBio Nationality Gender  \\\n",
       "0              1   Robert Arneson  American, 1930–1992    American   Male   \n",
       "1              2   Doroteo Arnaiz   Spanish, born 1936     Spanish   Male   \n",
       "2              3      Bill Arnold  American, born 1941    American   Male   \n",
       "3              4  Charles Arnoldi  American, born 1946    American   Male   \n",
       "4              5      Per Arnoldi    Danish, born 1941      Danish   Male   \n",
       "\n",
       "   BeginDate  EndDate  Wiki QID         ULAN  \n",
       "0       1930     1992      None          NaN  \n",
       "1       1936        0      None          NaN  \n",
       "2       1941        0      None          NaN  \n",
       "3       1946        0  Q1063584  500027998.0  \n",
       "4       1941        0      None          NaN  "
      ]
     },
     "execution_count": 5,
     "metadata": {},
     "output_type": "execute_result"
    }
   ],
   "source": [
    "# Won't work in colab\n",
    "artists =  pd.read_json('./data/Artists.json')\n",
    "artists.head()"
   ]
  },
  {
   "cell_type": "code",
   "execution_count": 6,
   "metadata": {
    "slideshow": {
     "slide_type": "fragment"
    }
   },
   "outputs": [
    {
     "data": {
      "text/html": [
       "<div>\n",
       "<style scoped>\n",
       "    .dataframe tbody tr th:only-of-type {\n",
       "        vertical-align: middle;\n",
       "    }\n",
       "\n",
       "    .dataframe tbody tr th {\n",
       "        vertical-align: top;\n",
       "    }\n",
       "\n",
       "    .dataframe thead th {\n",
       "        text-align: right;\n",
       "    }\n",
       "</style>\n",
       "<table border=\"1\" class=\"dataframe\">\n",
       "  <thead>\n",
       "    <tr style=\"text-align: right;\">\n",
       "      <th></th>\n",
       "      <th>ConstituentID</th>\n",
       "      <th>DisplayName</th>\n",
       "      <th>ArtistBio</th>\n",
       "      <th>Nationality</th>\n",
       "      <th>Gender</th>\n",
       "      <th>BeginDate</th>\n",
       "      <th>EndDate</th>\n",
       "      <th>Wiki QID</th>\n",
       "      <th>ULAN</th>\n",
       "    </tr>\n",
       "  </thead>\n",
       "  <tbody>\n",
       "    <tr>\n",
       "      <th>0</th>\n",
       "      <td>1</td>\n",
       "      <td>Robert Arneson</td>\n",
       "      <td>American, 1930–1992</td>\n",
       "      <td>American</td>\n",
       "      <td>Male</td>\n",
       "      <td>1930</td>\n",
       "      <td>1992</td>\n",
       "      <td>None</td>\n",
       "      <td>NaN</td>\n",
       "    </tr>\n",
       "    <tr>\n",
       "      <th>1</th>\n",
       "      <td>2</td>\n",
       "      <td>Doroteo Arnaiz</td>\n",
       "      <td>Spanish, born 1936</td>\n",
       "      <td>Spanish</td>\n",
       "      <td>Male</td>\n",
       "      <td>1936</td>\n",
       "      <td>0</td>\n",
       "      <td>None</td>\n",
       "      <td>NaN</td>\n",
       "    </tr>\n",
       "    <tr>\n",
       "      <th>2</th>\n",
       "      <td>3</td>\n",
       "      <td>Bill Arnold</td>\n",
       "      <td>American, born 1941</td>\n",
       "      <td>American</td>\n",
       "      <td>Male</td>\n",
       "      <td>1941</td>\n",
       "      <td>0</td>\n",
       "      <td>None</td>\n",
       "      <td>NaN</td>\n",
       "    </tr>\n",
       "    <tr>\n",
       "      <th>3</th>\n",
       "      <td>4</td>\n",
       "      <td>Charles Arnoldi</td>\n",
       "      <td>American, born 1946</td>\n",
       "      <td>American</td>\n",
       "      <td>Male</td>\n",
       "      <td>1946</td>\n",
       "      <td>0</td>\n",
       "      <td>Q1063584</td>\n",
       "      <td>500027998.0</td>\n",
       "    </tr>\n",
       "    <tr>\n",
       "      <th>4</th>\n",
       "      <td>5</td>\n",
       "      <td>Per Arnoldi</td>\n",
       "      <td>Danish, born 1941</td>\n",
       "      <td>Danish</td>\n",
       "      <td>Male</td>\n",
       "      <td>1941</td>\n",
       "      <td>0</td>\n",
       "      <td>None</td>\n",
       "      <td>NaN</td>\n",
       "    </tr>\n",
       "  </tbody>\n",
       "</table>\n",
       "</div>"
      ],
      "text/plain": [
       "   ConstituentID      DisplayName            ArtistBio Nationality Gender  \\\n",
       "0              1   Robert Arneson  American, 1930–1992    American   Male   \n",
       "1              2   Doroteo Arnaiz   Spanish, born 1936     Spanish   Male   \n",
       "2              3      Bill Arnold  American, born 1941    American   Male   \n",
       "3              4  Charles Arnoldi  American, born 1946    American   Male   \n",
       "4              5      Per Arnoldi    Danish, born 1941      Danish   Male   \n",
       "\n",
       "   BeginDate  EndDate  Wiki QID         ULAN  \n",
       "0       1930     1992      None          NaN  \n",
       "1       1936        0      None          NaN  \n",
       "2       1941        0      None          NaN  \n",
       "3       1946        0  Q1063584  500027998.0  \n",
       "4       1941        0      None          NaN  "
      ]
     },
     "execution_count": 6,
     "metadata": {},
     "output_type": "execute_result"
    }
   ],
   "source": [
    "json_url = \"https://github.com/MuseumofModernArt/collection/raw/master/Artists.json\"\n",
    "artists =  pd.read_json(json_url)\n",
    "artists.head()"
   ]
  },
  {
   "cell_type": "markdown",
   "metadata": {
    "slideshow": {
     "slide_type": "slide"
    }
   },
   "source": [
    "## <font color=\"red\"> Exercise 2.1.2 </font>\n",
    "    \n",
    "Use tab-completion and `help` to discover and explore two more methods of reading a file into a `Pandas` dataframe.\n"
   ]
  },
  {
   "cell_type": "code",
   "execution_count": 11,
   "metadata": {},
   "outputs": [
    {
     "name": "stdout",
     "output_type": "stream",
     "text": [
      "Help on function read_excel in module pandas.io.excel._base:\n",
      "\n",
      "read_excel(io, sheet_name=0, header=0, names=None, index_col=None, usecols=None, squeeze=False, dtype=None, engine=None, converters=None, true_values=None, false_values=None, skiprows=None, nrows=None, na_values=None, keep_default_na=True, na_filter=True, verbose=False, parse_dates=False, date_parser=None, thousands=None, comment=None, skipfooter=0, convert_float=True, mangle_dupe_cols=True, storage_options: Union[Dict[str, Any], NoneType] = None)\n",
      "    Read an Excel file into a pandas DataFrame.\n",
      "    \n",
      "    Supports `xls`, `xlsx`, `xlsm`, `xlsb`, `odf`, `ods` and `odt` file extensions\n",
      "    read from a local filesystem or URL. Supports an option to read\n",
      "    a single sheet or a list of sheets.\n",
      "    \n",
      "    Parameters\n",
      "    ----------\n",
      "    io : str, bytes, ExcelFile, xlrd.Book, path object, or file-like object\n",
      "        Any valid string path is acceptable. The string could be a URL. Valid\n",
      "        URL schemes include http, ftp, s3, and file. For file URLs, a host is\n",
      "        expected. A local file could be: ``file://localhost/path/to/table.xlsx``.\n",
      "    \n",
      "        If you want to pass in a path object, pandas accepts any ``os.PathLike``.\n",
      "    \n",
      "        By file-like object, we refer to objects with a ``read()`` method,\n",
      "        such as a file handle (e.g. via builtin ``open`` function)\n",
      "        or ``StringIO``.\n",
      "    sheet_name : str, int, list, or None, default 0\n",
      "        Strings are used for sheet names. Integers are used in zero-indexed\n",
      "        sheet positions. Lists of strings/integers are used to request\n",
      "        multiple sheets. Specify None to get all sheets.\n",
      "    \n",
      "        Available cases:\n",
      "    \n",
      "        * Defaults to ``0``: 1st sheet as a `DataFrame`\n",
      "        * ``1``: 2nd sheet as a `DataFrame`\n",
      "        * ``\"Sheet1\"``: Load sheet with name \"Sheet1\"\n",
      "        * ``[0, 1, \"Sheet5\"]``: Load first, second and sheet named \"Sheet5\"\n",
      "          as a dict of `DataFrame`\n",
      "        * None: All sheets.\n",
      "    \n",
      "    header : int, list of int, default 0\n",
      "        Row (0-indexed) to use for the column labels of the parsed\n",
      "        DataFrame. If a list of integers is passed those row positions will\n",
      "        be combined into a ``MultiIndex``. Use None if there is no header.\n",
      "    names : array-like, default None\n",
      "        List of column names to use. If file contains no header row,\n",
      "        then you should explicitly pass header=None.\n",
      "    index_col : int, list of int, default None\n",
      "        Column (0-indexed) to use as the row labels of the DataFrame.\n",
      "        Pass None if there is no such column.  If a list is passed,\n",
      "        those columns will be combined into a ``MultiIndex``.  If a\n",
      "        subset of data is selected with ``usecols``, index_col\n",
      "        is based on the subset.\n",
      "    usecols : int, str, list-like, or callable default None\n",
      "        * If None, then parse all columns.\n",
      "        * If str, then indicates comma separated list of Excel column letters\n",
      "          and column ranges (e.g. \"A:E\" or \"A,C,E:F\"). Ranges are inclusive of\n",
      "          both sides.\n",
      "        * If list of int, then indicates list of column numbers to be parsed.\n",
      "        * If list of string, then indicates list of column names to be parsed.\n",
      "    \n",
      "          .. versionadded:: 0.24.0\n",
      "    \n",
      "        * If callable, then evaluate each column name against it and parse the\n",
      "          column if the callable returns ``True``.\n",
      "    \n",
      "        Returns a subset of the columns according to behavior above.\n",
      "    \n",
      "          .. versionadded:: 0.24.0\n",
      "    \n",
      "    squeeze : bool, default False\n",
      "        If the parsed data only contains one column then return a Series.\n",
      "    dtype : Type name or dict of column -> type, default None\n",
      "        Data type for data or columns. E.g. {'a': np.float64, 'b': np.int32}\n",
      "        Use `object` to preserve data as stored in Excel and not interpret dtype.\n",
      "        If converters are specified, they will be applied INSTEAD\n",
      "        of dtype conversion.\n",
      "    engine : str, default None\n",
      "        If io is not a buffer or path, this must be set to identify io.\n",
      "        Supported engines: \"xlrd\", \"openpyxl\", \"odf\", \"pyxlsb\".\n",
      "        Engine compatibility :\n",
      "    \n",
      "        - \"xlrd\" supports old-style Excel files (.xls).\n",
      "        - \"openpyxl\" supports newer Excel file formats.\n",
      "        - \"odf\" supports OpenDocument file formats (.odf, .ods, .odt).\n",
      "        - \"pyxlsb\" supports Binary Excel files.\n",
      "    \n",
      "        .. versionchanged:: 1.2.0\n",
      "            The engine `xlrd <https://xlrd.readthedocs.io/en/latest/>`_\n",
      "            now only supports old-style ``.xls`` files.\n",
      "            When ``engine=None``, the following logic will be\n",
      "            used to determine the engine:\n",
      "    \n",
      "           - If ``path_or_buffer`` is an OpenDocument format (.odf, .ods, .odt),\n",
      "             then `odf <https://pypi.org/project/odfpy/>`_ will be used.\n",
      "           - Otherwise if ``path_or_buffer`` is an xls format,\n",
      "             ``xlrd`` will be used.\n",
      "           - Otherwise if `openpyxl <https://pypi.org/project/openpyxl/>`_ is installed,\n",
      "             then ``openpyxl`` will be used.\n",
      "           - Otherwise if ``xlrd >= 2.0`` is installed, a ``ValueError`` will be raised.\n",
      "           - Otherwise ``xlrd`` will be used and a ``FutureWarning`` will be raised. This\n",
      "             case will raise a ``ValueError`` in a future version of pandas.\n",
      "    \n",
      "    converters : dict, default None\n",
      "        Dict of functions for converting values in certain columns. Keys can\n",
      "        either be integers or column labels, values are functions that take one\n",
      "        input argument, the Excel cell content, and return the transformed\n",
      "        content.\n",
      "    true_values : list, default None\n",
      "        Values to consider as True.\n",
      "    false_values : list, default None\n",
      "        Values to consider as False.\n",
      "    skiprows : list-like, int, or callable, optional\n",
      "        Line numbers to skip (0-indexed) or number of lines to skip (int) at the\n",
      "        start of the file. If callable, the callable function will be evaluated\n",
      "        against the row indices, returning True if the row should be skipped and\n",
      "        False otherwise. An example of a valid callable argument would be ``lambda\n",
      "        x: x in [0, 2]``.\n",
      "    nrows : int, default None\n",
      "        Number of rows to parse.\n",
      "    na_values : scalar, str, list-like, or dict, default None\n",
      "        Additional strings to recognize as NA/NaN. If dict passed, specific\n",
      "        per-column NA values. By default the following values are interpreted\n",
      "        as NaN: '', '#N/A', '#N/A N/A', '#NA', '-1.#IND', '-1.#QNAN', '-NaN', '-nan',\n",
      "        '1.#IND', '1.#QNAN', '<NA>', 'N/A', 'NA', 'NULL', 'NaN', 'n/a',\n",
      "        'nan', 'null'.\n",
      "    keep_default_na : bool, default True\n",
      "        Whether or not to include the default NaN values when parsing the data.\n",
      "        Depending on whether `na_values` is passed in, the behavior is as follows:\n",
      "    \n",
      "        * If `keep_default_na` is True, and `na_values` are specified, `na_values`\n",
      "          is appended to the default NaN values used for parsing.\n",
      "        * If `keep_default_na` is True, and `na_values` are not specified, only\n",
      "          the default NaN values are used for parsing.\n",
      "        * If `keep_default_na` is False, and `na_values` are specified, only\n",
      "          the NaN values specified `na_values` are used for parsing.\n",
      "        * If `keep_default_na` is False, and `na_values` are not specified, no\n",
      "          strings will be parsed as NaN.\n",
      "    \n",
      "        Note that if `na_filter` is passed in as False, the `keep_default_na` and\n",
      "        `na_values` parameters will be ignored.\n",
      "    na_filter : bool, default True\n",
      "        Detect missing value markers (empty strings and the value of na_values). In\n",
      "        data without any NAs, passing na_filter=False can improve the performance\n",
      "        of reading a large file.\n",
      "    verbose : bool, default False\n",
      "        Indicate number of NA values placed in non-numeric columns.\n",
      "    parse_dates : bool, list-like, or dict, default False\n",
      "        The behavior is as follows:\n",
      "    \n",
      "        * bool. If True -> try parsing the index.\n",
      "        * list of int or names. e.g. If [1, 2, 3] -> try parsing columns 1, 2, 3\n",
      "          each as a separate date column.\n",
      "        * list of lists. e.g.  If [[1, 3]] -> combine columns 1 and 3 and parse as\n",
      "          a single date column.\n",
      "        * dict, e.g. {'foo' : [1, 3]} -> parse columns 1, 3 as date and call\n",
      "          result 'foo'\n",
      "    \n",
      "        If a column or index contains an unparseable date, the entire column or\n",
      "        index will be returned unaltered as an object data type. If you don`t want to\n",
      "        parse some cells as date just change their type in Excel to \"Text\".\n",
      "        For non-standard datetime parsing, use ``pd.to_datetime`` after ``pd.read_excel``.\n",
      "    \n",
      "        Note: A fast-path exists for iso8601-formatted dates.\n",
      "    date_parser : function, optional\n",
      "        Function to use for converting a sequence of string columns to an array of\n",
      "        datetime instances. The default uses ``dateutil.parser.parser`` to do the\n",
      "        conversion. Pandas will try to call `date_parser` in three different ways,\n",
      "        advancing to the next if an exception occurs: 1) Pass one or more arrays\n",
      "        (as defined by `parse_dates`) as arguments; 2) concatenate (row-wise) the\n",
      "        string values from the columns defined by `parse_dates` into a single array\n",
      "        and pass that; and 3) call `date_parser` once for each row using one or\n",
      "        more strings (corresponding to the columns defined by `parse_dates`) as\n",
      "        arguments.\n",
      "    thousands : str, default None\n",
      "        Thousands separator for parsing string columns to numeric.  Note that\n",
      "        this parameter is only necessary for columns stored as TEXT in Excel,\n",
      "        any numeric columns will automatically be parsed, regardless of display\n",
      "        format.\n",
      "    comment : str, default None\n",
      "        Comments out remainder of line. Pass a character or characters to this\n",
      "        argument to indicate comments in the input file. Any data between the\n",
      "        comment string and the end of the current line is ignored.\n",
      "    skipfooter : int, default 0\n",
      "        Rows at the end to skip (0-indexed).\n",
      "    convert_float : bool, default True\n",
      "        Convert integral floats to int (i.e., 1.0 --> 1). If False, all numeric\n",
      "        data will be read in as floats: Excel stores all numbers as floats\n",
      "        internally.\n",
      "    mangle_dupe_cols : bool, default True\n",
      "        Duplicate columns will be specified as 'X', 'X.1', ...'X.N', rather than\n",
      "        'X'...'X'. Passing in False will cause data to be overwritten if there\n",
      "        are duplicate names in the columns.\n",
      "    storage_options : dict, optional\n",
      "        Extra options that make sense for a particular storage connection, e.g.\n",
      "        host, port, username, password, etc., if using a URL that will\n",
      "        be parsed by ``fsspec``, e.g., starting \"s3://\", \"gcs://\". An error\n",
      "        will be raised if providing this argument with a local path or\n",
      "        a file-like buffer. See the fsspec and backend storage implementation\n",
      "        docs for the set of allowed keys and values.\n",
      "    \n",
      "        .. versionadded:: 1.2.0\n",
      "    \n",
      "    Returns\n",
      "    -------\n",
      "    DataFrame or dict of DataFrames\n",
      "        DataFrame from the passed in Excel file. See notes in sheet_name\n",
      "        argument for more information on when a dict of DataFrames is returned.\n",
      "    \n",
      "    See Also\n",
      "    --------\n",
      "    DataFrame.to_excel : Write DataFrame to an Excel file.\n",
      "    DataFrame.to_csv : Write DataFrame to a comma-separated values (csv) file.\n",
      "    read_csv : Read a comma-separated values (csv) file into DataFrame.\n",
      "    read_fwf : Read a table of fixed-width formatted lines into DataFrame.\n",
      "    \n",
      "    Examples\n",
      "    --------\n",
      "    The file can be read using the file name as string or an open file object:\n",
      "    \n",
      "    >>> pd.read_excel('tmp.xlsx', index_col=0)  # doctest: +SKIP\n",
      "           Name  Value\n",
      "    0   string1      1\n",
      "    1   string2      2\n",
      "    2  #Comment      3\n",
      "    \n",
      "    >>> pd.read_excel(open('tmp.xlsx', 'rb'),\n",
      "    ...               sheet_name='Sheet3')  # doctest: +SKIP\n",
      "       Unnamed: 0      Name  Value\n",
      "    0           0   string1      1\n",
      "    1           1   string2      2\n",
      "    2           2  #Comment      3\n",
      "    \n",
      "    Index and header can be specified via the `index_col` and `header` arguments\n",
      "    \n",
      "    >>> pd.read_excel('tmp.xlsx', index_col=None, header=None)  # doctest: +SKIP\n",
      "         0         1      2\n",
      "    0  NaN      Name  Value\n",
      "    1  0.0   string1      1\n",
      "    2  1.0   string2      2\n",
      "    3  2.0  #Comment      3\n",
      "    \n",
      "    Column types are inferred but can be explicitly specified\n",
      "    \n",
      "    >>> pd.read_excel('tmp.xlsx', index_col=0,\n",
      "    ...               dtype={'Name': str, 'Value': float})  # doctest: +SKIP\n",
      "           Name  Value\n",
      "    0   string1    1.0\n",
      "    1   string2    2.0\n",
      "    2  #Comment    3.0\n",
      "    \n",
      "    True, False, and NA values, and thousands separators have defaults,\n",
      "    but can be explicitly specified, too. Supply the values you would like\n",
      "    as strings or lists of strings!\n",
      "    \n",
      "    >>> pd.read_excel('tmp.xlsx', index_col=0,\n",
      "    ...               na_values=['string1', 'string2'])  # doctest: +SKIP\n",
      "           Name  Value\n",
      "    0       NaN      1\n",
      "    1       NaN      2\n",
      "    2  #Comment      3\n",
      "    \n",
      "    Comment lines in the excel input file can be skipped using the `comment` kwarg\n",
      "    \n",
      "    >>> pd.read_excel('tmp.xlsx', index_col=0, comment='#')  # doctest: +SKIP\n",
      "          Name  Value\n",
      "    0  string1    1.0\n",
      "    1  string2    2.0\n",
      "    2     None    NaN\n",
      "\n"
     ]
    }
   ],
   "source": [
    "help(pd.read_excel)"
   ]
  },
  {
   "cell_type": "code",
   "execution_count": 12,
   "metadata": {},
   "outputs": [
    {
     "name": "stdout",
     "output_type": "stream",
     "text": [
      "Help on function read_pickle in module pandas.io.pickle:\n",
      "\n",
      "read_pickle(filepath_or_buffer: Union[ForwardRef('PathLike[str]'), str, IO[~T], io.RawIOBase, io.BufferedIOBase, io.TextIOBase, _io.TextIOWrapper, mmap.mmap], compression: Union[str, Dict[str, Any], NoneType] = 'infer', storage_options: Union[Dict[str, Any], NoneType] = None)\n",
      "    Load pickled pandas object (or any object) from file.\n",
      "    \n",
      "    .. warning::\n",
      "    \n",
      "       Loading pickled data received from untrusted sources can be\n",
      "       unsafe. See `here <https://docs.python.org/3/library/pickle.html>`__.\n",
      "    \n",
      "    Parameters\n",
      "    ----------\n",
      "    filepath_or_buffer : str, path object or file-like object\n",
      "        File path, URL, or buffer where the pickled object will be loaded from.\n",
      "    \n",
      "        .. versionchanged:: 1.0.0\n",
      "           Accept URL. URL is not limited to S3 and GCS.\n",
      "    \n",
      "    compression : {'infer', 'gzip', 'bz2', 'zip', 'xz', None}, default 'infer'\n",
      "        If 'infer' and 'path_or_url' is path-like, then detect compression from\n",
      "        the following extensions: '.gz', '.bz2', '.zip', or '.xz' (otherwise no\n",
      "        compression) If 'infer' and 'path_or_url' is not path-like, then use\n",
      "        None (= no decompression).\n",
      "    \n",
      "    storage_options : dict, optional\n",
      "        Extra options that make sense for a particular storage connection, e.g.\n",
      "        host, port, username, password, etc., if using a URL that will\n",
      "        be parsed by ``fsspec``, e.g., starting \"s3://\", \"gcs://\". An error\n",
      "        will be raised if providing this argument with a non-fsspec URL.\n",
      "        See the fsspec and backend storage implementation docs for the set of\n",
      "        allowed keys and values.\n",
      "    \n",
      "        .. versionadded:: 1.2.0\n",
      "    \n",
      "    Returns\n",
      "    -------\n",
      "    unpickled : same type as object stored in file\n",
      "    \n",
      "    See Also\n",
      "    --------\n",
      "    DataFrame.to_pickle : Pickle (serialize) DataFrame object to file.\n",
      "    Series.to_pickle : Pickle (serialize) Series object to file.\n",
      "    read_hdf : Read HDF5 file into a DataFrame.\n",
      "    read_sql : Read SQL query or database table into a DataFrame.\n",
      "    read_parquet : Load a parquet object, returning a DataFrame.\n",
      "    \n",
      "    Notes\n",
      "    -----\n",
      "    read_pickle is only guaranteed to be backwards compatible to pandas 0.20.3.\n",
      "    \n",
      "    Examples\n",
      "    --------\n",
      "    >>> original_df = pd.DataFrame({\"foo\": range(5), \"bar\": range(5, 10)})\n",
      "    >>> original_df\n",
      "       foo  bar\n",
      "    0    0    5\n",
      "    1    1    6\n",
      "    2    2    7\n",
      "    3    3    8\n",
      "    4    4    9\n",
      "    >>> pd.to_pickle(original_df, \"./dummy.pkl\")\n",
      "    \n",
      "    >>> unpickled_df = pd.read_pickle(\"./dummy.pkl\")\n",
      "    >>> unpickled_df\n",
      "       foo  bar\n",
      "    0    0    5\n",
      "    1    1    6\n",
      "    2    2    7\n",
      "    3    3    8\n",
      "    4    4    9\n",
      "    \n",
      "    >>> import os\n",
      "    >>> os.remove(\"./dummy.pkl\")\n",
      "\n"
     ]
    }
   ],
   "source": [
    "help(pd.read_pickle)"
   ]
  },
  {
   "cell_type": "markdown",
   "metadata": {},
   "source": [
    "> There are many different kinds of files that pd.read_ can read into pandas dataframe: excel, txt, pickle, json,..."
   ]
  },
  {
   "cell_type": "markdown",
   "metadata": {
    "slideshow": {
     "slide_type": "slide"
    }
   },
   "source": [
    "## <font color=\"red\"> Exercise 2.1.2 </font>\n",
    "    \n",
    "Read in the `Artwork.csv` from [https://github.com/MuseumofModernArt/collection](https://github.com/MuseumofModernArt/collection) and display the head of the resulting dataframe.\n"
   ]
  },
  {
   "cell_type": "code",
   "execution_count": 15,
   "metadata": {
    "slideshow": {
     "slide_type": "fragment"
    }
   },
   "outputs": [],
   "source": [
    "# Your code here\n",
    "\n",
    "artwork = pd.read_csv('https://media.githubusercontent.com/media/MuseumofModernArt/collection/master/Artists.csv')"
   ]
  },
  {
   "cell_type": "code",
   "execution_count": 17,
   "metadata": {},
   "outputs": [
    {
     "data": {
      "text/html": [
       "<div>\n",
       "<style scoped>\n",
       "    .dataframe tbody tr th:only-of-type {\n",
       "        vertical-align: middle;\n",
       "    }\n",
       "\n",
       "    .dataframe tbody tr th {\n",
       "        vertical-align: top;\n",
       "    }\n",
       "\n",
       "    .dataframe thead th {\n",
       "        text-align: right;\n",
       "    }\n",
       "</style>\n",
       "<table border=\"1\" class=\"dataframe\">\n",
       "  <thead>\n",
       "    <tr style=\"text-align: right;\">\n",
       "      <th></th>\n",
       "      <th>ConstituentID</th>\n",
       "      <th>DisplayName</th>\n",
       "      <th>ArtistBio</th>\n",
       "      <th>Nationality</th>\n",
       "      <th>Gender</th>\n",
       "      <th>BeginDate</th>\n",
       "      <th>EndDate</th>\n",
       "      <th>Wiki QID</th>\n",
       "      <th>ULAN</th>\n",
       "    </tr>\n",
       "  </thead>\n",
       "  <tbody>\n",
       "    <tr>\n",
       "      <th>0</th>\n",
       "      <td>1</td>\n",
       "      <td>Robert Arneson</td>\n",
       "      <td>American, 1930–1992</td>\n",
       "      <td>American</td>\n",
       "      <td>Male</td>\n",
       "      <td>1930</td>\n",
       "      <td>1992</td>\n",
       "      <td>NaN</td>\n",
       "      <td>NaN</td>\n",
       "    </tr>\n",
       "    <tr>\n",
       "      <th>1</th>\n",
       "      <td>2</td>\n",
       "      <td>Doroteo Arnaiz</td>\n",
       "      <td>Spanish, born 1936</td>\n",
       "      <td>Spanish</td>\n",
       "      <td>Male</td>\n",
       "      <td>1936</td>\n",
       "      <td>0</td>\n",
       "      <td>NaN</td>\n",
       "      <td>NaN</td>\n",
       "    </tr>\n",
       "    <tr>\n",
       "      <th>2</th>\n",
       "      <td>3</td>\n",
       "      <td>Bill Arnold</td>\n",
       "      <td>American, born 1941</td>\n",
       "      <td>American</td>\n",
       "      <td>Male</td>\n",
       "      <td>1941</td>\n",
       "      <td>0</td>\n",
       "      <td>NaN</td>\n",
       "      <td>NaN</td>\n",
       "    </tr>\n",
       "    <tr>\n",
       "      <th>3</th>\n",
       "      <td>4</td>\n",
       "      <td>Charles Arnoldi</td>\n",
       "      <td>American, born 1946</td>\n",
       "      <td>American</td>\n",
       "      <td>Male</td>\n",
       "      <td>1946</td>\n",
       "      <td>0</td>\n",
       "      <td>Q1063584</td>\n",
       "      <td>500027998.0</td>\n",
       "    </tr>\n",
       "    <tr>\n",
       "      <th>4</th>\n",
       "      <td>5</td>\n",
       "      <td>Per Arnoldi</td>\n",
       "      <td>Danish, born 1941</td>\n",
       "      <td>Danish</td>\n",
       "      <td>Male</td>\n",
       "      <td>1941</td>\n",
       "      <td>0</td>\n",
       "      <td>NaN</td>\n",
       "      <td>NaN</td>\n",
       "    </tr>\n",
       "  </tbody>\n",
       "</table>\n",
       "</div>"
      ],
      "text/plain": [
       "   ConstituentID      DisplayName            ArtistBio Nationality Gender  \\\n",
       "0              1   Robert Arneson  American, 1930–1992    American   Male   \n",
       "1              2   Doroteo Arnaiz   Spanish, born 1936     Spanish   Male   \n",
       "2              3      Bill Arnold  American, born 1941    American   Male   \n",
       "3              4  Charles Arnoldi  American, born 1946    American   Male   \n",
       "4              5      Per Arnoldi    Danish, born 1941      Danish   Male   \n",
       "\n",
       "   BeginDate  EndDate  Wiki QID         ULAN  \n",
       "0       1930     1992       NaN          NaN  \n",
       "1       1936        0       NaN          NaN  \n",
       "2       1941        0       NaN          NaN  \n",
       "3       1946        0  Q1063584  500027998.0  \n",
       "4       1941        0       NaN          NaN  "
      ]
     },
     "execution_count": 17,
     "metadata": {},
     "output_type": "execute_result"
    }
   ],
   "source": [
    "artwork.head()"
   ]
  },
  {
   "cell_type": "markdown",
   "metadata": {
    "slideshow": {
     "slide_type": "slide"
    }
   },
   "source": [
    "## So what is a `DateFrame`\n",
    "\n",
    "* Like R, Pandas focuses on columns\n",
    "* Think `dict` of `(str, Series)` pairs \n",
    "* A series is a typed list-like structure"
   ]
  },
  {
   "cell_type": "code",
   "execution_count": 8,
   "metadata": {
    "scrolled": true,
    "slideshow": {
     "slide_type": "fragment"
    }
   },
   "outputs": [],
   "source": [
    "# This is how I imagine a dataframe\n",
    "df = pd.DataFrame({\"Names\": [\"Iverson\", \"Malone\", \"Bergen\"],\n",
    "                   \"Python_mastery\": [10, 5, 1.0],\n",
    "                   \"years_at_wsu\": [4.5, 17.5, 5.5]})"
   ]
  },
  {
   "cell_type": "code",
   "execution_count": 9,
   "metadata": {},
   "outputs": [
    {
     "data": {
      "text/plain": [
       "pandas.core.frame.DataFrame"
      ]
     },
     "execution_count": 9,
     "metadata": {},
     "output_type": "execute_result"
    }
   ],
   "source": [
    "type(df)"
   ]
  },
  {
   "cell_type": "markdown",
   "metadata": {
    "slideshow": {
     "slide_type": "slide"
    }
   },
   "source": [
    "## Columns are `Series` and hold one type of data"
   ]
  },
  {
   "cell_type": "code",
   "execution_count": 10,
   "metadata": {
    "slideshow": {
     "slide_type": "fragment"
    }
   },
   "outputs": [
    {
     "data": {
      "text/plain": [
       "(pandas.core.series.Series, pandas.core.series.Series)"
      ]
     },
     "execution_count": 10,
     "metadata": {},
     "output_type": "execute_result"
    }
   ],
   "source": [
    "type(artists.BeginDate), type(artists.DisplayName)"
   ]
  },
  {
   "cell_type": "code",
   "execution_count": 11,
   "metadata": {
    "slideshow": {
     "slide_type": "fragment"
    }
   },
   "outputs": [
    {
     "data": {
      "text/plain": [
       "(dtype('int64'), dtype('O'))"
      ]
     },
     "execution_count": 11,
     "metadata": {},
     "output_type": "execute_result"
    }
   ],
   "source": [
    "artists.BeginDate.dtype, artists.DisplayName.dtype"
   ]
  },
  {
   "cell_type": "markdown",
   "metadata": {
    "slideshow": {
     "slide_type": "slide"
    }
   },
   "source": [
    "## Two ways to access a column\n",
    "\n",
    "* **Method 1:** like a dictionary\n",
    "    * `df[\"column_name\"]`\n",
    "* **Method 2:** like an object attribute\n",
    "    * `df.column_name`\n",
    "    * Only for proper names!"
   ]
  },
  {
   "cell_type": "code",
   "execution_count": 12,
   "metadata": {
    "slideshow": {
     "slide_type": "fragment"
    }
   },
   "outputs": [
    {
     "data": {
      "text/plain": [
       "0    1930\n",
       "1    1936\n",
       "Name: BeginDate, dtype: int64"
      ]
     },
     "execution_count": 12,
     "metadata": {},
     "output_type": "execute_result"
    }
   ],
   "source": [
    "artists.BeginDate.head(2)"
   ]
  },
  {
   "cell_type": "code",
   "execution_count": 13,
   "metadata": {
    "scrolled": true,
    "slideshow": {
     "slide_type": "fragment"
    }
   },
   "outputs": [
    {
     "data": {
      "text/plain": [
       "0    1930\n",
       "1    1936\n",
       "Name: BeginDate, dtype: int64"
      ]
     },
     "execution_count": 13,
     "metadata": {},
     "output_type": "execute_result"
    }
   ],
   "source": [
    "artists['BeginDate'].head(2)"
   ]
  },
  {
   "cell_type": "markdown",
   "metadata": {
    "slideshow": {
     "slide_type": "slide"
    }
   },
   "source": [
    "## More on data types\n",
    "\n",
    "* See all data types with `df.dtypes`\n",
    "* You can set the `dtypes` when you read a dataframe\n",
    "* Read more about types: [Pandas docs](https://pandas.pydata.org/pandas-docs/stable/generated/pandas.DataFrame.dtypes.html)"
   ]
  },
  {
   "cell_type": "code",
   "execution_count": 14,
   "metadata": {
    "scrolled": true,
    "slideshow": {
     "slide_type": "fragment"
    }
   },
   "outputs": [
    {
     "data": {
      "text/plain": [
       "ConstituentID      int64\n",
       "DisplayName       object\n",
       "ArtistBio         object\n",
       "Nationality       object\n",
       "Gender            object\n",
       "BeginDate          int64\n",
       "EndDate            int64\n",
       "Wiki QID          object\n",
       "ULAN             float64\n",
       "dtype: object"
      ]
     },
     "execution_count": 14,
     "metadata": {},
     "output_type": "execute_result"
    }
   ],
   "source": [
    "artists.dtypes"
   ]
  },
  {
   "cell_type": "markdown",
   "metadata": {},
   "source": [
    "## Setting `dtypes` with `read_csv`\n",
    "\n",
    "We can pass a `dict` of types to `dtype` keyword"
   ]
  },
  {
   "cell_type": "code",
   "execution_count": 15,
   "metadata": {},
   "outputs": [
    {
     "data": {
      "text/html": [
       "<div>\n",
       "<style scoped>\n",
       "    .dataframe tbody tr th:only-of-type {\n",
       "        vertical-align: middle;\n",
       "    }\n",
       "\n",
       "    .dataframe tbody tr th {\n",
       "        vertical-align: top;\n",
       "    }\n",
       "\n",
       "    .dataframe thead th {\n",
       "        text-align: right;\n",
       "    }\n",
       "</style>\n",
       "<table border=\"1\" class=\"dataframe\">\n",
       "  <thead>\n",
       "    <tr style=\"text-align: right;\">\n",
       "      <th></th>\n",
       "      <th>ConstituentID</th>\n",
       "      <th>DisplayName</th>\n",
       "      <th>ArtistBio</th>\n",
       "      <th>Nationality</th>\n",
       "      <th>Gender</th>\n",
       "      <th>BeginDate</th>\n",
       "      <th>EndDate</th>\n",
       "      <th>Wiki QID</th>\n",
       "      <th>ULAN</th>\n",
       "    </tr>\n",
       "  </thead>\n",
       "  <tbody>\n",
       "    <tr>\n",
       "      <th>0</th>\n",
       "      <td>1</td>\n",
       "      <td>Robert Arneson</td>\n",
       "      <td>American, 1930–1992</td>\n",
       "      <td>American</td>\n",
       "      <td>Male</td>\n",
       "      <td>1930</td>\n",
       "      <td>1992</td>\n",
       "      <td>NaN</td>\n",
       "      <td>&lt;NA&gt;</td>\n",
       "    </tr>\n",
       "    <tr>\n",
       "      <th>1</th>\n",
       "      <td>2</td>\n",
       "      <td>Doroteo Arnaiz</td>\n",
       "      <td>Spanish, born 1936</td>\n",
       "      <td>Spanish</td>\n",
       "      <td>Male</td>\n",
       "      <td>1936</td>\n",
       "      <td>0</td>\n",
       "      <td>NaN</td>\n",
       "      <td>&lt;NA&gt;</td>\n",
       "    </tr>\n",
       "    <tr>\n",
       "      <th>2</th>\n",
       "      <td>3</td>\n",
       "      <td>Bill Arnold</td>\n",
       "      <td>American, born 1941</td>\n",
       "      <td>American</td>\n",
       "      <td>Male</td>\n",
       "      <td>1941</td>\n",
       "      <td>0</td>\n",
       "      <td>NaN</td>\n",
       "      <td>&lt;NA&gt;</td>\n",
       "    </tr>\n",
       "    <tr>\n",
       "      <th>3</th>\n",
       "      <td>4</td>\n",
       "      <td>Charles Arnoldi</td>\n",
       "      <td>American, born 1946</td>\n",
       "      <td>American</td>\n",
       "      <td>Male</td>\n",
       "      <td>1946</td>\n",
       "      <td>0</td>\n",
       "      <td>Q1063584</td>\n",
       "      <td>500027998</td>\n",
       "    </tr>\n",
       "    <tr>\n",
       "      <th>4</th>\n",
       "      <td>5</td>\n",
       "      <td>Per Arnoldi</td>\n",
       "      <td>Danish, born 1941</td>\n",
       "      <td>Danish</td>\n",
       "      <td>Male</td>\n",
       "      <td>1941</td>\n",
       "      <td>0</td>\n",
       "      <td>NaN</td>\n",
       "      <td>&lt;NA&gt;</td>\n",
       "    </tr>\n",
       "  </tbody>\n",
       "</table>\n",
       "</div>"
      ],
      "text/plain": [
       "   ConstituentID      DisplayName            ArtistBio Nationality Gender  \\\n",
       "0              1   Robert Arneson  American, 1930–1992    American   Male   \n",
       "1              2   Doroteo Arnaiz   Spanish, born 1936     Spanish   Male   \n",
       "2              3      Bill Arnold  American, born 1941    American   Male   \n",
       "3              4  Charles Arnoldi  American, born 1946    American   Male   \n",
       "4              5      Per Arnoldi    Danish, born 1941      Danish   Male   \n",
       "\n",
       "   BeginDate  EndDate  Wiki QID       ULAN  \n",
       "0       1930     1992       NaN       <NA>  \n",
       "1       1936        0       NaN       <NA>  \n",
       "2       1941        0       NaN       <NA>  \n",
       "3       1946        0  Q1063584  500027998  \n",
       "4       1941        0       NaN       <NA>  "
      ]
     },
     "execution_count": 15,
     "metadata": {},
     "output_type": "execute_result"
    }
   ],
   "source": [
    "import numpy as np\n",
    "artist_types = {'ConstituentID': np.int64,\n",
    "                'DisplayName': str,\n",
    "                'ArtistBio': str,\n",
    "                'Nationality': str,\n",
    "                'Gender':str,\n",
    "                'BeginDate': np.int64,\n",
    "                'EndDate': np.int64,\n",
    "                'Wiki QID': str,\n",
    "                'ULAN':pd.Int64Dtype()} # If you get an error ==> update pandas (see below)\n",
    "artists2 = pd.read_csv('./data/artists.csv', dtype = artist_types)\n",
    "artists2.head()"
   ]
  },
  {
   "cell_type": "markdown",
   "metadata": {},
   "source": [
    "## What's up with `ULAN` ?\n",
    "\n",
    "* Currently, `numpy` $\\rightarrow$ no missing `int`s\n",
    "* Pandas correct this with the `pd.Int64Dtype()` type\n",
    "    * Only available in `pandas >= 0.24.0`"
   ]
  },
  {
   "cell_type": "code",
   "execution_count": 16,
   "metadata": {},
   "outputs": [
    {
     "data": {
      "text/plain": [
       "'1.4.2'"
      ]
     },
     "execution_count": 16,
     "metadata": {},
     "output_type": "execute_result"
    }
   ],
   "source": [
    "pd.__version__"
   ]
  },
  {
   "cell_type": "markdown",
   "metadata": {},
   "source": [
    "## An `Int` by any other name ...\n",
    "\n",
    "* `np.int64` $\\rightarrow$ no missing values\n",
    "* `pd.Int64Dtype()` $\\rightarrow$ allows `NaN`"
   ]
  },
  {
   "cell_type": "code",
   "execution_count": 17,
   "metadata": {},
   "outputs": [
    {
     "data": {
      "text/plain": [
       "ConstituentID     int64\n",
       "DisplayName      object\n",
       "ArtistBio        object\n",
       "Nationality      object\n",
       "Gender           object\n",
       "BeginDate         int64\n",
       "EndDate           int64\n",
       "Wiki QID         object\n",
       "ULAN              Int64\n",
       "dtype: object"
      ]
     },
     "execution_count": 17,
     "metadata": {},
     "output_type": "execute_result"
    }
   ],
   "source": [
    "artists2.dtypes"
   ]
  },
  {
   "cell_type": "markdown",
   "metadata": {},
   "source": [
    "## Preview of coming attractions\n",
    "\n",
    "* Now we can switch `BeginDate` and `EndDate` from `0` to `np.NaN`\n",
    "* We will do this in the next section"
   ]
  },
  {
   "cell_type": "markdown",
   "metadata": {
    "slideshow": {
     "slide_type": "slide"
    }
   },
   "source": [
    "# Getting to know your data"
   ]
  },
  {
   "cell_type": "markdown",
   "metadata": {
    "slideshow": {
     "slide_type": "slide"
    }
   },
   "source": [
    "## Basic inspection tools\n",
    "\n",
    "* `df.head()`        first five rows\n",
    "* `df.tail()`        last five rows\n",
    "* `df.sample(5)`     random sample of rows\n",
    "* `df.shape`         number of rows/columns in a tuple\n",
    "* `df.describe()`    calculates measures of central tendency\n",
    "* `df.info()`"
   ]
  },
  {
   "cell_type": "markdown",
   "metadata": {
    "slideshow": {
     "slide_type": "slide"
    }
   },
   "source": [
    "## <font color=\"red\"> Exercise 1: Inspect the artwork from MoMA </font>"
   ]
  },
  {
   "cell_type": "markdown",
   "metadata": {},
   "source": [
    "#### Read the csv and inspect the `head`"
   ]
  },
  {
   "cell_type": "code",
   "execution_count": 18,
   "metadata": {
    "scrolled": true,
    "slideshow": {
     "slide_type": "slide"
    }
   },
   "outputs": [
    {
     "data": {
      "text/html": [
       "<div>\n",
       "<style scoped>\n",
       "    .dataframe tbody tr th:only-of-type {\n",
       "        vertical-align: middle;\n",
       "    }\n",
       "\n",
       "    .dataframe tbody tr th {\n",
       "        vertical-align: top;\n",
       "    }\n",
       "\n",
       "    .dataframe thead th {\n",
       "        text-align: right;\n",
       "    }\n",
       "</style>\n",
       "<table border=\"1\" class=\"dataframe\">\n",
       "  <thead>\n",
       "    <tr style=\"text-align: right;\">\n",
       "      <th></th>\n",
       "      <th>ConstituentID</th>\n",
       "      <th>DisplayName</th>\n",
       "      <th>ArtistBio</th>\n",
       "      <th>Nationality</th>\n",
       "      <th>Gender</th>\n",
       "      <th>BeginDate</th>\n",
       "      <th>EndDate</th>\n",
       "      <th>Wiki QID</th>\n",
       "      <th>ULAN</th>\n",
       "    </tr>\n",
       "  </thead>\n",
       "  <tbody>\n",
       "    <tr>\n",
       "      <th>0</th>\n",
       "      <td>1</td>\n",
       "      <td>Robert Arneson</td>\n",
       "      <td>American, 1930–1992</td>\n",
       "      <td>American</td>\n",
       "      <td>Male</td>\n",
       "      <td>1930</td>\n",
       "      <td>1992</td>\n",
       "      <td>NaN</td>\n",
       "      <td>NaN</td>\n",
       "    </tr>\n",
       "    <tr>\n",
       "      <th>1</th>\n",
       "      <td>2</td>\n",
       "      <td>Doroteo Arnaiz</td>\n",
       "      <td>Spanish, born 1936</td>\n",
       "      <td>Spanish</td>\n",
       "      <td>Male</td>\n",
       "      <td>1936</td>\n",
       "      <td>0</td>\n",
       "      <td>NaN</td>\n",
       "      <td>NaN</td>\n",
       "    </tr>\n",
       "    <tr>\n",
       "      <th>2</th>\n",
       "      <td>3</td>\n",
       "      <td>Bill Arnold</td>\n",
       "      <td>American, born 1941</td>\n",
       "      <td>American</td>\n",
       "      <td>Male</td>\n",
       "      <td>1941</td>\n",
       "      <td>0</td>\n",
       "      <td>NaN</td>\n",
       "      <td>NaN</td>\n",
       "    </tr>\n",
       "    <tr>\n",
       "      <th>3</th>\n",
       "      <td>4</td>\n",
       "      <td>Charles Arnoldi</td>\n",
       "      <td>American, born 1946</td>\n",
       "      <td>American</td>\n",
       "      <td>Male</td>\n",
       "      <td>1946</td>\n",
       "      <td>0</td>\n",
       "      <td>Q1063584</td>\n",
       "      <td>500027998.0</td>\n",
       "    </tr>\n",
       "    <tr>\n",
       "      <th>4</th>\n",
       "      <td>5</td>\n",
       "      <td>Per Arnoldi</td>\n",
       "      <td>Danish, born 1941</td>\n",
       "      <td>Danish</td>\n",
       "      <td>Male</td>\n",
       "      <td>1941</td>\n",
       "      <td>0</td>\n",
       "      <td>NaN</td>\n",
       "      <td>NaN</td>\n",
       "    </tr>\n",
       "  </tbody>\n",
       "</table>\n",
       "</div>"
      ],
      "text/plain": [
       "   ConstituentID      DisplayName            ArtistBio Nationality Gender  \\\n",
       "0              1   Robert Arneson  American, 1930–1992    American   Male   \n",
       "1              2   Doroteo Arnaiz   Spanish, born 1936     Spanish   Male   \n",
       "2              3      Bill Arnold  American, born 1941    American   Male   \n",
       "3              4  Charles Arnoldi  American, born 1946    American   Male   \n",
       "4              5      Per Arnoldi    Danish, born 1941      Danish   Male   \n",
       "\n",
       "   BeginDate  EndDate  Wiki QID         ULAN  \n",
       "0       1930     1992       NaN          NaN  \n",
       "1       1936        0       NaN          NaN  \n",
       "2       1941        0       NaN          NaN  \n",
       "3       1946        0  Q1063584  500027998.0  \n",
       "4       1941        0       NaN          NaN  "
      ]
     },
     "execution_count": 18,
     "metadata": {},
     "output_type": "execute_result"
    }
   ],
   "source": [
    "artwork.head()"
   ]
  },
  {
   "cell_type": "code",
   "execution_count": 19,
   "metadata": {},
   "outputs": [
    {
     "data": {
      "text/html": [
       "<div>\n",
       "<style scoped>\n",
       "    .dataframe tbody tr th:only-of-type {\n",
       "        vertical-align: middle;\n",
       "    }\n",
       "\n",
       "    .dataframe tbody tr th {\n",
       "        vertical-align: top;\n",
       "    }\n",
       "\n",
       "    .dataframe thead th {\n",
       "        text-align: right;\n",
       "    }\n",
       "</style>\n",
       "<table border=\"1\" class=\"dataframe\">\n",
       "  <thead>\n",
       "    <tr style=\"text-align: right;\">\n",
       "      <th></th>\n",
       "      <th>ConstituentID</th>\n",
       "      <th>DisplayName</th>\n",
       "      <th>ArtistBio</th>\n",
       "      <th>Nationality</th>\n",
       "      <th>Gender</th>\n",
       "      <th>BeginDate</th>\n",
       "      <th>EndDate</th>\n",
       "      <th>Wiki QID</th>\n",
       "      <th>ULAN</th>\n",
       "    </tr>\n",
       "  </thead>\n",
       "  <tbody>\n",
       "    <tr>\n",
       "      <th>15245</th>\n",
       "      <td>134919</td>\n",
       "      <td>William Downey</td>\n",
       "      <td>British, 1829–1915</td>\n",
       "      <td>British</td>\n",
       "      <td>Male</td>\n",
       "      <td>1829</td>\n",
       "      <td>1915</td>\n",
       "      <td>NaN</td>\n",
       "      <td>NaN</td>\n",
       "    </tr>\n",
       "    <tr>\n",
       "      <th>15246</th>\n",
       "      <td>134920</td>\n",
       "      <td>Daniel Downey</td>\n",
       "      <td>British, 1831–1881</td>\n",
       "      <td>British</td>\n",
       "      <td>Male</td>\n",
       "      <td>1831</td>\n",
       "      <td>1881</td>\n",
       "      <td>NaN</td>\n",
       "      <td>NaN</td>\n",
       "    </tr>\n",
       "    <tr>\n",
       "      <th>15247</th>\n",
       "      <td>135032</td>\n",
       "      <td>Yolanda Lopez</td>\n",
       "      <td>American, 1942 – 2021</td>\n",
       "      <td>American</td>\n",
       "      <td>Female</td>\n",
       "      <td>1942</td>\n",
       "      <td>2021</td>\n",
       "      <td>NaN</td>\n",
       "      <td>NaN</td>\n",
       "    </tr>\n",
       "    <tr>\n",
       "      <th>15248</th>\n",
       "      <td>135042</td>\n",
       "      <td>Arnt Jensen</td>\n",
       "      <td>Danish, born 1971</td>\n",
       "      <td>Danish</td>\n",
       "      <td>Male</td>\n",
       "      <td>1971</td>\n",
       "      <td>0</td>\n",
       "      <td>NaN</td>\n",
       "      <td>NaN</td>\n",
       "    </tr>\n",
       "    <tr>\n",
       "      <th>15249</th>\n",
       "      <td>135111</td>\n",
       "      <td>After Sophie Taeuber-Arp</td>\n",
       "      <td>French, born Switzerland. 1889–1943</td>\n",
       "      <td>NaN</td>\n",
       "      <td>NaN</td>\n",
       "      <td>0</td>\n",
       "      <td>0</td>\n",
       "      <td>NaN</td>\n",
       "      <td>NaN</td>\n",
       "    </tr>\n",
       "  </tbody>\n",
       "</table>\n",
       "</div>"
      ],
      "text/plain": [
       "       ConstituentID               DisplayName  \\\n",
       "15245         134919            William Downey   \n",
       "15246         134920             Daniel Downey   \n",
       "15247         135032             Yolanda Lopez   \n",
       "15248         135042               Arnt Jensen   \n",
       "15249         135111  After Sophie Taeuber-Arp   \n",
       "\n",
       "                                 ArtistBio Nationality  Gender  BeginDate  \\\n",
       "15245                   British, 1829–1915     British    Male       1829   \n",
       "15246                   British, 1831–1881     British    Male       1831   \n",
       "15247                American, 1942 – 2021    American  Female       1942   \n",
       "15248                    Danish, born 1971      Danish    Male       1971   \n",
       "15249  French, born Switzerland. 1889–1943         NaN     NaN          0   \n",
       "\n",
       "       EndDate Wiki QID  ULAN  \n",
       "15245     1915      NaN   NaN  \n",
       "15246     1881      NaN   NaN  \n",
       "15247     2021      NaN   NaN  \n",
       "15248        0      NaN   NaN  \n",
       "15249        0      NaN   NaN  "
      ]
     },
     "execution_count": 19,
     "metadata": {},
     "output_type": "execute_result"
    }
   ],
   "source": [
    "artwork.tail()"
   ]
  },
  {
   "cell_type": "code",
   "execution_count": 20,
   "metadata": {},
   "outputs": [
    {
     "data": {
      "text/html": [
       "<div>\n",
       "<style scoped>\n",
       "    .dataframe tbody tr th:only-of-type {\n",
       "        vertical-align: middle;\n",
       "    }\n",
       "\n",
       "    .dataframe tbody tr th {\n",
       "        vertical-align: top;\n",
       "    }\n",
       "\n",
       "    .dataframe thead th {\n",
       "        text-align: right;\n",
       "    }\n",
       "</style>\n",
       "<table border=\"1\" class=\"dataframe\">\n",
       "  <thead>\n",
       "    <tr style=\"text-align: right;\">\n",
       "      <th></th>\n",
       "      <th>ConstituentID</th>\n",
       "      <th>DisplayName</th>\n",
       "      <th>ArtistBio</th>\n",
       "      <th>Nationality</th>\n",
       "      <th>Gender</th>\n",
       "      <th>BeginDate</th>\n",
       "      <th>EndDate</th>\n",
       "      <th>Wiki QID</th>\n",
       "      <th>ULAN</th>\n",
       "    </tr>\n",
       "  </thead>\n",
       "  <tbody>\n",
       "    <tr>\n",
       "      <th>11648</th>\n",
       "      <td>35452</td>\n",
       "      <td>Barbara Hammann</td>\n",
       "      <td>German, born 1945</td>\n",
       "      <td>German</td>\n",
       "      <td>Female</td>\n",
       "      <td>1945</td>\n",
       "      <td>0</td>\n",
       "      <td>NaN</td>\n",
       "      <td>NaN</td>\n",
       "    </tr>\n",
       "    <tr>\n",
       "      <th>657</th>\n",
       "      <td>741</td>\n",
       "      <td>Marianne Brandt</td>\n",
       "      <td>German, 1893–1983</td>\n",
       "      <td>German</td>\n",
       "      <td>Female</td>\n",
       "      <td>1893</td>\n",
       "      <td>1983</td>\n",
       "      <td>Q456521</td>\n",
       "      <td>500019983.0</td>\n",
       "    </tr>\n",
       "    <tr>\n",
       "      <th>11078</th>\n",
       "      <td>32473</td>\n",
       "      <td>Sonic Youth</td>\n",
       "      <td>USA, est. 1981</td>\n",
       "      <td>American</td>\n",
       "      <td>NaN</td>\n",
       "      <td>1981</td>\n",
       "      <td>0</td>\n",
       "      <td>Q188626</td>\n",
       "      <td>NaN</td>\n",
       "    </tr>\n",
       "    <tr>\n",
       "      <th>15093</th>\n",
       "      <td>133076</td>\n",
       "      <td>Jordan Casteel</td>\n",
       "      <td>American, born 1989</td>\n",
       "      <td>American</td>\n",
       "      <td>Female</td>\n",
       "      <td>1989</td>\n",
       "      <td>0</td>\n",
       "      <td>NaN</td>\n",
       "      <td>NaN</td>\n",
       "    </tr>\n",
       "    <tr>\n",
       "      <th>9305</th>\n",
       "      <td>24413</td>\n",
       "      <td>Karl Blossfeldt</td>\n",
       "      <td>German, 1865–1932</td>\n",
       "      <td>German</td>\n",
       "      <td>Male</td>\n",
       "      <td>1865</td>\n",
       "      <td>1932</td>\n",
       "      <td>NaN</td>\n",
       "      <td>NaN</td>\n",
       "    </tr>\n",
       "  </tbody>\n",
       "</table>\n",
       "</div>"
      ],
      "text/plain": [
       "       ConstituentID      DisplayName            ArtistBio Nationality  \\\n",
       "11648          35452  Barbara Hammann    German, born 1945      German   \n",
       "657              741  Marianne Brandt    German, 1893–1983      German   \n",
       "11078          32473      Sonic Youth       USA, est. 1981    American   \n",
       "15093         133076   Jordan Casteel  American, born 1989    American   \n",
       "9305           24413  Karl Blossfeldt    German, 1865–1932      German   \n",
       "\n",
       "       Gender  BeginDate  EndDate Wiki QID         ULAN  \n",
       "11648  Female       1945        0      NaN          NaN  \n",
       "657    Female       1893     1983  Q456521  500019983.0  \n",
       "11078     NaN       1981        0  Q188626          NaN  \n",
       "15093  Female       1989        0      NaN          NaN  \n",
       "9305     Male       1865     1932      NaN          NaN  "
      ]
     },
     "execution_count": 20,
     "metadata": {},
     "output_type": "execute_result"
    }
   ],
   "source": [
    "artwork.sample(5)"
   ]
  },
  {
   "cell_type": "code",
   "execution_count": 21,
   "metadata": {},
   "outputs": [
    {
     "data": {
      "text/plain": [
       "(15250, 9)"
      ]
     },
     "execution_count": 21,
     "metadata": {},
     "output_type": "execute_result"
    }
   ],
   "source": [
    "artwork.shape"
   ]
  },
  {
   "cell_type": "code",
   "execution_count": 22,
   "metadata": {},
   "outputs": [
    {
     "data": {
      "text/html": [
       "<div>\n",
       "<style scoped>\n",
       "    .dataframe tbody tr th:only-of-type {\n",
       "        vertical-align: middle;\n",
       "    }\n",
       "\n",
       "    .dataframe tbody tr th {\n",
       "        vertical-align: top;\n",
       "    }\n",
       "\n",
       "    .dataframe thead th {\n",
       "        text-align: right;\n",
       "    }\n",
       "</style>\n",
       "<table border=\"1\" class=\"dataframe\">\n",
       "  <thead>\n",
       "    <tr style=\"text-align: right;\">\n",
       "      <th></th>\n",
       "      <th>ConstituentID</th>\n",
       "      <th>BeginDate</th>\n",
       "      <th>EndDate</th>\n",
       "      <th>ULAN</th>\n",
       "    </tr>\n",
       "  </thead>\n",
       "  <tbody>\n",
       "    <tr>\n",
       "      <th>count</th>\n",
       "      <td>15250.000000</td>\n",
       "      <td>15250.000000</td>\n",
       "      <td>15250.000000</td>\n",
       "      <td>2.932000e+03</td>\n",
       "    </tr>\n",
       "    <tr>\n",
       "      <th>mean</th>\n",
       "      <td>21470.271475</td>\n",
       "      <td>1468.704328</td>\n",
       "      <td>668.876525</td>\n",
       "      <td>5.000744e+08</td>\n",
       "    </tr>\n",
       "    <tr>\n",
       "      <th>std</th>\n",
       "      <td>24497.112643</td>\n",
       "      <td>824.178814</td>\n",
       "      <td>935.569964</td>\n",
       "      <td>8.658942e+04</td>\n",
       "    </tr>\n",
       "    <tr>\n",
       "      <th>min</th>\n",
       "      <td>1.000000</td>\n",
       "      <td>0.000000</td>\n",
       "      <td>0.000000</td>\n",
       "      <td>5.000000e+08</td>\n",
       "    </tr>\n",
       "    <tr>\n",
       "      <th>25%</th>\n",
       "      <td>4261.250000</td>\n",
       "      <td>1830.000000</td>\n",
       "      <td>0.000000</td>\n",
       "      <td>5.000176e+08</td>\n",
       "    </tr>\n",
       "    <tr>\n",
       "      <th>50%</th>\n",
       "      <td>8708.500000</td>\n",
       "      <td>1922.000000</td>\n",
       "      <td>0.000000</td>\n",
       "      <td>5.000330e+08</td>\n",
       "    </tr>\n",
       "    <tr>\n",
       "      <th>75%</th>\n",
       "      <td>34796.750000</td>\n",
       "      <td>1948.000000</td>\n",
       "      <td>1962.000000</td>\n",
       "      <td>5.001146e+08</td>\n",
       "    </tr>\n",
       "    <tr>\n",
       "      <th>max</th>\n",
       "      <td>135111.000000</td>\n",
       "      <td>2017.000000</td>\n",
       "      <td>2022.000000</td>\n",
       "      <td>5.003566e+08</td>\n",
       "    </tr>\n",
       "  </tbody>\n",
       "</table>\n",
       "</div>"
      ],
      "text/plain": [
       "       ConstituentID     BeginDate       EndDate          ULAN\n",
       "count   15250.000000  15250.000000  15250.000000  2.932000e+03\n",
       "mean    21470.271475   1468.704328    668.876525  5.000744e+08\n",
       "std     24497.112643    824.178814    935.569964  8.658942e+04\n",
       "min         1.000000      0.000000      0.000000  5.000000e+08\n",
       "25%      4261.250000   1830.000000      0.000000  5.000176e+08\n",
       "50%      8708.500000   1922.000000      0.000000  5.000330e+08\n",
       "75%     34796.750000   1948.000000   1962.000000  5.001146e+08\n",
       "max    135111.000000   2017.000000   2022.000000  5.003566e+08"
      ]
     },
     "execution_count": 22,
     "metadata": {},
     "output_type": "execute_result"
    }
   ],
   "source": [
    "artwork.describe()"
   ]
  },
  {
   "cell_type": "code",
   "execution_count": 23,
   "metadata": {},
   "outputs": [
    {
     "name": "stdout",
     "output_type": "stream",
     "text": [
      "<class 'pandas.core.frame.DataFrame'>\n",
      "RangeIndex: 15250 entries, 0 to 15249\n",
      "Data columns (total 9 columns):\n",
      " #   Column         Non-Null Count  Dtype  \n",
      "---  ------         --------------  -----  \n",
      " 0   ConstituentID  15250 non-null  int64  \n",
      " 1   DisplayName    15250 non-null  object \n",
      " 2   ArtistBio      13032 non-null  object \n",
      " 3   Nationality    12774 non-null  object \n",
      " 4   Gender         12083 non-null  object \n",
      " 5   BeginDate      15250 non-null  int64  \n",
      " 6   EndDate        15250 non-null  int64  \n",
      " 7   Wiki QID       3249 non-null   object \n",
      " 8   ULAN           2932 non-null   float64\n",
      "dtypes: float64(1), int64(3), object(5)\n",
      "memory usage: 1.0+ MB\n"
     ]
    }
   ],
   "source": [
    "artwork.info()"
   ]
  },
  {
   "cell_type": "markdown",
   "metadata": {},
   "source": [
    "**Task:** Write a few sentences describing an problems\n",
    "\n",
    "# There are many null values in the dataset."
   ]
  },
  {
   "cell_type": "markdown",
   "metadata": {},
   "source": [
    "#### Inspect the column names with the `columns` attribute"
   ]
  },
  {
   "cell_type": "code",
   "execution_count": 24,
   "metadata": {},
   "outputs": [
    {
     "data": {
      "text/plain": [
       "Index(['ConstituentID', 'DisplayName', 'ArtistBio', 'Nationality', 'Gender',\n",
       "       'BeginDate', 'EndDate', 'Wiki QID', 'ULAN'],\n",
       "      dtype='object')"
      ]
     },
     "execution_count": 24,
     "metadata": {},
     "output_type": "execute_result"
    }
   ],
   "source": [
    "artwork.columns"
   ]
  },
  {
   "cell_type": "markdown",
   "metadata": {},
   "source": [
    "**Question:** See any problems?"
   ]
  },
  {
   "cell_type": "markdown",
   "metadata": {},
   "source": [
    "# It is better to have no space in the column name 'Wiki QID'\n"
   ]
  },
  {
   "cell_type": "markdown",
   "metadata": {},
   "source": [
    "#### Inspect the tail"
   ]
  },
  {
   "cell_type": "code",
   "execution_count": 25,
   "metadata": {
    "scrolled": true,
    "slideshow": {
     "slide_type": "slide"
    }
   },
   "outputs": [
    {
     "data": {
      "text/html": [
       "<div>\n",
       "<style scoped>\n",
       "    .dataframe tbody tr th:only-of-type {\n",
       "        vertical-align: middle;\n",
       "    }\n",
       "\n",
       "    .dataframe tbody tr th {\n",
       "        vertical-align: top;\n",
       "    }\n",
       "\n",
       "    .dataframe thead th {\n",
       "        text-align: right;\n",
       "    }\n",
       "</style>\n",
       "<table border=\"1\" class=\"dataframe\">\n",
       "  <thead>\n",
       "    <tr style=\"text-align: right;\">\n",
       "      <th></th>\n",
       "      <th>ConstituentID</th>\n",
       "      <th>DisplayName</th>\n",
       "      <th>ArtistBio</th>\n",
       "      <th>Nationality</th>\n",
       "      <th>Gender</th>\n",
       "      <th>BeginDate</th>\n",
       "      <th>EndDate</th>\n",
       "      <th>Wiki QID</th>\n",
       "      <th>ULAN</th>\n",
       "    </tr>\n",
       "  </thead>\n",
       "  <tbody>\n",
       "    <tr>\n",
       "      <th>15245</th>\n",
       "      <td>134919</td>\n",
       "      <td>William Downey</td>\n",
       "      <td>British, 1829–1915</td>\n",
       "      <td>British</td>\n",
       "      <td>Male</td>\n",
       "      <td>1829</td>\n",
       "      <td>1915</td>\n",
       "      <td>NaN</td>\n",
       "      <td>NaN</td>\n",
       "    </tr>\n",
       "    <tr>\n",
       "      <th>15246</th>\n",
       "      <td>134920</td>\n",
       "      <td>Daniel Downey</td>\n",
       "      <td>British, 1831–1881</td>\n",
       "      <td>British</td>\n",
       "      <td>Male</td>\n",
       "      <td>1831</td>\n",
       "      <td>1881</td>\n",
       "      <td>NaN</td>\n",
       "      <td>NaN</td>\n",
       "    </tr>\n",
       "    <tr>\n",
       "      <th>15247</th>\n",
       "      <td>135032</td>\n",
       "      <td>Yolanda Lopez</td>\n",
       "      <td>American, 1942 – 2021</td>\n",
       "      <td>American</td>\n",
       "      <td>Female</td>\n",
       "      <td>1942</td>\n",
       "      <td>2021</td>\n",
       "      <td>NaN</td>\n",
       "      <td>NaN</td>\n",
       "    </tr>\n",
       "    <tr>\n",
       "      <th>15248</th>\n",
       "      <td>135042</td>\n",
       "      <td>Arnt Jensen</td>\n",
       "      <td>Danish, born 1971</td>\n",
       "      <td>Danish</td>\n",
       "      <td>Male</td>\n",
       "      <td>1971</td>\n",
       "      <td>0</td>\n",
       "      <td>NaN</td>\n",
       "      <td>NaN</td>\n",
       "    </tr>\n",
       "    <tr>\n",
       "      <th>15249</th>\n",
       "      <td>135111</td>\n",
       "      <td>After Sophie Taeuber-Arp</td>\n",
       "      <td>French, born Switzerland. 1889–1943</td>\n",
       "      <td>NaN</td>\n",
       "      <td>NaN</td>\n",
       "      <td>0</td>\n",
       "      <td>0</td>\n",
       "      <td>NaN</td>\n",
       "      <td>NaN</td>\n",
       "    </tr>\n",
       "  </tbody>\n",
       "</table>\n",
       "</div>"
      ],
      "text/plain": [
       "       ConstituentID               DisplayName  \\\n",
       "15245         134919            William Downey   \n",
       "15246         134920             Daniel Downey   \n",
       "15247         135032             Yolanda Lopez   \n",
       "15248         135042               Arnt Jensen   \n",
       "15249         135111  After Sophie Taeuber-Arp   \n",
       "\n",
       "                                 ArtistBio Nationality  Gender  BeginDate  \\\n",
       "15245                   British, 1829–1915     British    Male       1829   \n",
       "15246                   British, 1831–1881     British    Male       1831   \n",
       "15247                American, 1942 – 2021    American  Female       1942   \n",
       "15248                    Danish, born 1971      Danish    Male       1971   \n",
       "15249  French, born Switzerland. 1889–1943         NaN     NaN          0   \n",
       "\n",
       "       EndDate Wiki QID  ULAN  \n",
       "15245     1915      NaN   NaN  \n",
       "15246     1881      NaN   NaN  \n",
       "15247     2021      NaN   NaN  \n",
       "15248        0      NaN   NaN  \n",
       "15249        0      NaN   NaN  "
      ]
     },
     "execution_count": 25,
     "metadata": {},
     "output_type": "execute_result"
    }
   ],
   "source": [
    "artwork.tail()"
   ]
  },
  {
   "cell_type": "markdown",
   "metadata": {},
   "source": [
    "#### Check out the `shape`"
   ]
  },
  {
   "cell_type": "code",
   "execution_count": 26,
   "metadata": {
    "slideshow": {
     "slide_type": "slide"
    }
   },
   "outputs": [
    {
     "data": {
      "text/plain": [
       "(15250, 9)"
      ]
     },
     "execution_count": 26,
     "metadata": {},
     "output_type": "execute_result"
    }
   ],
   "source": [
    "artwork.shape"
   ]
  },
  {
   "cell_type": "markdown",
   "metadata": {},
   "source": [
    "**Question:** What do these number mean?"
   ]
  },
  {
   "cell_type": "markdown",
   "metadata": {},
   "source": [
    "*Your thoughts here*"
   ]
  },
  {
   "cell_type": "markdown",
   "metadata": {},
   "source": [
    "#### Use `describe` to compute statistics"
   ]
  },
  {
   "cell_type": "code",
   "execution_count": 27,
   "metadata": {
    "slideshow": {
     "slide_type": "slide"
    }
   },
   "outputs": [
    {
     "data": {
      "text/html": [
       "<div>\n",
       "<style scoped>\n",
       "    .dataframe tbody tr th:only-of-type {\n",
       "        vertical-align: middle;\n",
       "    }\n",
       "\n",
       "    .dataframe tbody tr th {\n",
       "        vertical-align: top;\n",
       "    }\n",
       "\n",
       "    .dataframe thead th {\n",
       "        text-align: right;\n",
       "    }\n",
       "</style>\n",
       "<table border=\"1\" class=\"dataframe\">\n",
       "  <thead>\n",
       "    <tr style=\"text-align: right;\">\n",
       "      <th></th>\n",
       "      <th>ConstituentID</th>\n",
       "      <th>BeginDate</th>\n",
       "      <th>EndDate</th>\n",
       "      <th>ULAN</th>\n",
       "    </tr>\n",
       "  </thead>\n",
       "  <tbody>\n",
       "    <tr>\n",
       "      <th>count</th>\n",
       "      <td>15250.000000</td>\n",
       "      <td>15250.000000</td>\n",
       "      <td>15250.000000</td>\n",
       "      <td>2.932000e+03</td>\n",
       "    </tr>\n",
       "    <tr>\n",
       "      <th>mean</th>\n",
       "      <td>21470.271475</td>\n",
       "      <td>1468.704328</td>\n",
       "      <td>668.876525</td>\n",
       "      <td>5.000744e+08</td>\n",
       "    </tr>\n",
       "    <tr>\n",
       "      <th>std</th>\n",
       "      <td>24497.112643</td>\n",
       "      <td>824.178814</td>\n",
       "      <td>935.569964</td>\n",
       "      <td>8.658942e+04</td>\n",
       "    </tr>\n",
       "    <tr>\n",
       "      <th>min</th>\n",
       "      <td>1.000000</td>\n",
       "      <td>0.000000</td>\n",
       "      <td>0.000000</td>\n",
       "      <td>5.000000e+08</td>\n",
       "    </tr>\n",
       "    <tr>\n",
       "      <th>25%</th>\n",
       "      <td>4261.250000</td>\n",
       "      <td>1830.000000</td>\n",
       "      <td>0.000000</td>\n",
       "      <td>5.000176e+08</td>\n",
       "    </tr>\n",
       "    <tr>\n",
       "      <th>50%</th>\n",
       "      <td>8708.500000</td>\n",
       "      <td>1922.000000</td>\n",
       "      <td>0.000000</td>\n",
       "      <td>5.000330e+08</td>\n",
       "    </tr>\n",
       "    <tr>\n",
       "      <th>75%</th>\n",
       "      <td>34796.750000</td>\n",
       "      <td>1948.000000</td>\n",
       "      <td>1962.000000</td>\n",
       "      <td>5.001146e+08</td>\n",
       "    </tr>\n",
       "    <tr>\n",
       "      <th>max</th>\n",
       "      <td>135111.000000</td>\n",
       "      <td>2017.000000</td>\n",
       "      <td>2022.000000</td>\n",
       "      <td>5.003566e+08</td>\n",
       "    </tr>\n",
       "  </tbody>\n",
       "</table>\n",
       "</div>"
      ],
      "text/plain": [
       "       ConstituentID     BeginDate       EndDate          ULAN\n",
       "count   15250.000000  15250.000000  15250.000000  2.932000e+03\n",
       "mean    21470.271475   1468.704328    668.876525  5.000744e+08\n",
       "std     24497.112643    824.178814    935.569964  8.658942e+04\n",
       "min         1.000000      0.000000      0.000000  5.000000e+08\n",
       "25%      4261.250000   1830.000000      0.000000  5.000176e+08\n",
       "50%      8708.500000   1922.000000      0.000000  5.000330e+08\n",
       "75%     34796.750000   1948.000000   1962.000000  5.001146e+08\n",
       "max    135111.000000   2017.000000   2022.000000  5.003566e+08"
      ]
     },
     "execution_count": 27,
     "metadata": {},
     "output_type": "execute_result"
    }
   ],
   "source": [
    "artwork.describe()"
   ]
  },
  {
   "cell_type": "markdown",
   "metadata": {},
   "source": [
    "#### Use `info` to look at types and totals"
   ]
  },
  {
   "cell_type": "code",
   "execution_count": 28,
   "metadata": {
    "slideshow": {
     "slide_type": "slide"
    }
   },
   "outputs": [
    {
     "name": "stdout",
     "output_type": "stream",
     "text": [
      "<class 'pandas.core.frame.DataFrame'>\n",
      "RangeIndex: 15250 entries, 0 to 15249\n",
      "Data columns (total 9 columns):\n",
      " #   Column         Non-Null Count  Dtype  \n",
      "---  ------         --------------  -----  \n",
      " 0   ConstituentID  15250 non-null  int64  \n",
      " 1   DisplayName    15250 non-null  object \n",
      " 2   ArtistBio      13032 non-null  object \n",
      " 3   Nationality    12774 non-null  object \n",
      " 4   Gender         12083 non-null  object \n",
      " 5   BeginDate      15250 non-null  int64  \n",
      " 6   EndDate        15250 non-null  int64  \n",
      " 7   Wiki QID       3249 non-null   object \n",
      " 8   ULAN           2932 non-null   float64\n",
      "dtypes: float64(1), int64(3), object(5)\n",
      "memory usage: 1.0+ MB\n"
     ]
    }
   ],
   "source": [
    "artwork.info()"
   ]
  },
  {
   "cell_type": "markdown",
   "metadata": {},
   "source": [
    "**Question:** What did you learn from the last two cells?"
   ]
  },
  {
   "cell_type": "markdown",
   "metadata": {},
   "source": [
    "# There are four numerical columns (3 integer and 1 float) and five object columns. All of 9 columns have null values. We have some basic metrics for numerical variables as the above first result."
   ]
  }
 ],
 "metadata": {
  "kernelspec": {
   "display_name": "Python 3.8.8 ('base')",
   "language": "python",
   "name": "python3"
  },
  "language_info": {
   "codemirror_mode": {
    "name": "ipython",
    "version": 3
   },
   "file_extension": ".py",
   "mimetype": "text/x-python",
   "name": "python",
   "nbconvert_exporter": "python",
   "pygments_lexer": "ipython3",
   "version": "3.8.8"
  },
  "varInspector": {
   "cols": {
    "lenName": 16,
    "lenType": 16,
    "lenVar": 40
   },
   "kernels_config": {
    "python": {
     "delete_cmd_postfix": "",
     "delete_cmd_prefix": "del ",
     "library": "var_list.py",
     "varRefreshCmd": "print(var_dic_list())"
    },
    "r": {
     "delete_cmd_postfix": ") ",
     "delete_cmd_prefix": "rm(",
     "library": "var_list.r",
     "varRefreshCmd": "cat(var_dic_list()) "
    }
   },
   "types_to_exclude": [
    "module",
    "function",
    "builtin_function_or_method",
    "instance",
    "_Feature"
   ],
   "window_display": false
  },
  "vscode": {
   "interpreter": {
    "hash": "7c212824cb12fc878ff8eecb31e8c8e2c5317c726f1d2d9806c3c44a7604245f"
   }
  }
 },
 "nbformat": 4,
 "nbformat_minor": 2
}
